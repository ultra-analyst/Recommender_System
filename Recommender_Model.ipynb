{
  "nbformat": 4,
  "nbformat_minor": 0,
  "metadata": {
    "colab": {
      "provenance": []
    },
    "kernelspec": {
      "name": "python3",
      "display_name": "Python 3"
    },
    "language_info": {
      "name": "python"
    }
  },
  "cells": [
    {
      "cell_type": "markdown",
      "source": [
        "Load Data"
      ],
      "metadata": {
        "id": "od85xffuoaJ9"
      }
    },
    {
      "cell_type": "code",
      "execution_count": 1,
      "metadata": {
        "colab": {
          "base_uri": "https://localhost:8080/"
        },
        "id": "TdgDHtiZuzv6",
        "outputId": "04e54bd4-34f7-4927-f714-9fe35be6e852"
      },
      "outputs": [
        {
          "output_type": "stream",
          "name": "stdout",
          "text": [
            "<bound method NDFrame.head of       Index                   Title                    Artist  \\\n",
            "0         1                 Sunrise               Norah Jones   \n",
            "1         2             Black Night               Deep Purple   \n",
            "2         3          Clint Eastwood                  Gorillaz   \n",
            "3         4           The Pretender              Foo Fighters   \n",
            "4         5  Waitin' On A Sunny Day         Bruce Springsteen   \n",
            "...     ...                     ...                       ...   \n",
            "1989   1990        Heartbreak Hotel             Elvis Presley   \n",
            "1990   1991               Hound Dog             Elvis Presley   \n",
            "1991   1992         Johnny B. Goode               Chuck Berry   \n",
            "1992   1993               Take Five  The Dave Brubeck Quartet   \n",
            "1993   1994          Blueberry Hill               Fats Domino   \n",
            "\n",
            "                Top Genre  Year  Beats Per Minute (BPM)  Energy  Danceability  \\\n",
            "0         adult standards  2004                     157      30            53   \n",
            "1              album rock  2000                     135      79            50   \n",
            "2     alternative hip hop  2001                     168      69            66   \n",
            "3       alternative metal  2007                     173      96            43   \n",
            "4            classic rock  2002                     106      82            58   \n",
            "...                   ...   ...                     ...     ...           ...   \n",
            "1989      adult standards  1958                      94      21            70   \n",
            "1990      adult standards  1958                     175      76            36   \n",
            "1991           blues rock  1959                     168      80            53   \n",
            "1992                bebop  1959                     174      26            45   \n",
            "1993      adult standards  1959                     133      50            49   \n",
            "\n",
            "      Loudness (dB)  Liveness  Valence Length (Duration)  Acousticness  \\\n",
            "0               -14        11       68               201            94   \n",
            "1               -11        17       81               207            17   \n",
            "2                -9         7       52               341             2   \n",
            "3                -4         3       37               269             0   \n",
            "4                -5        10       87               256             1   \n",
            "...             ...       ...      ...               ...           ...   \n",
            "1989            -12        11       72               128            84   \n",
            "1990             -8        76       95               136            73   \n",
            "1991             -9        31       97               162            74   \n",
            "1992            -13         7       60               324            54   \n",
            "1993            -10        16       83               148            74   \n",
            "\n",
            "      Speechiness  Popularity  \n",
            "0               3          71  \n",
            "1               7          39  \n",
            "2              17          69  \n",
            "3               4          76  \n",
            "4               3          59  \n",
            "...           ...         ...  \n",
            "1989            7          63  \n",
            "1990            6          69  \n",
            "1991            7          74  \n",
            "1992            4          65  \n",
            "1993            3          56  \n",
            "\n",
            "[1994 rows x 15 columns]>\n"
          ]
        }
      ],
      "source": [
        "import pandas as pd\n",
        "df = pd.read_csv('Spotify-2000.csv')\n",
        "print(df.head)"
      ]
    },
    {
      "cell_type": "markdown",
      "source": [
        "Inspect Data"
      ],
      "metadata": {
        "id": "KVh0x5f7oiIJ"
      }
    },
    {
      "cell_type": "code",
      "source": [
        "# Check for missing values\n",
        "missing_values = df.isnull().sum()\n",
        "print(\"Missing values in each column:\")\n",
        "print(missing_values)\n",
        "\n",
        "# Identify numerical features\n",
        "numerical_features = df.select_dtypes(include=['float64', 'int64']).columns\n",
        "print(\"Numerical features in the dataset:\")\n",
        "print(numerical_features)"
      ],
      "metadata": {
        "colab": {
          "base_uri": "https://localhost:8080/"
        },
        "id": "Dhkhkzhxv_-t",
        "outputId": "65a4a04e-d684-47d8-abd5-7f8edf325219"
      },
      "execution_count": 2,
      "outputs": [
        {
          "output_type": "stream",
          "name": "stdout",
          "text": [
            "Missing values in each column:\n",
            "Index                     0\n",
            "Title                     0\n",
            "Artist                    0\n",
            "Top Genre                 0\n",
            "Year                      0\n",
            "Beats Per Minute (BPM)    0\n",
            "Energy                    0\n",
            "Danceability              0\n",
            "Loudness (dB)             0\n",
            "Liveness                  0\n",
            "Valence                   0\n",
            "Length (Duration)         0\n",
            "Acousticness              0\n",
            "Speechiness               0\n",
            "Popularity                0\n",
            "dtype: int64\n",
            "Numerical features in the dataset:\n",
            "Index(['Index', 'Year', 'Beats Per Minute (BPM)', 'Energy', 'Danceability',\n",
            "       'Loudness (dB)', 'Liveness', 'Valence', 'Acousticness', 'Speechiness',\n",
            "       'Popularity'],\n",
            "      dtype='object')\n"
          ]
        }
      ]
    },
    {
      "cell_type": "markdown",
      "source": [
        "Preprocess Data"
      ],
      "metadata": {
        "id": "raUqHiUZoljd"
      }
    },
    {
      "cell_type": "code",
      "source": [
        "from sklearn.preprocessing import MinMaxScaler, LabelEncoder\n",
        "\n",
        "# Identify numerical features\n",
        "numerical_features = ['Beats Per Minute (BPM)', 'Energy', 'Danceability', 'Loudness (dB)',\n",
        "                      'Liveness', 'Valence', 'Acousticness', 'Speechiness', 'Popularity']\n",
        "\n",
        "# Normalize numerical features\n",
        "scaler = MinMaxScaler()\n",
        "df[numerical_features] = scaler.fit_transform(df[numerical_features])\n",
        "\n",
        "# Identify and encode categorical features\n",
        "categorical_features = ['Artist', 'Top Genre', 'Year']\n",
        "label_encoder = LabelEncoder()\n",
        "for feature in categorical_features:\n",
        "    df[feature + '_encoded'] = label_encoder.fit_transform(df[feature])\n",
        "\n",
        "# Display the processed DataFrame\n",
        "print(\"Processed DataFrame:\")\n",
        "print(df.head())"
      ],
      "metadata": {
        "colab": {
          "base_uri": "https://localhost:8080/"
        },
        "id": "qstrYQcc0DH8",
        "outputId": "e8c0381b-ab59-407b-919a-9caf778abada"
      },
      "execution_count": 3,
      "outputs": [
        {
          "output_type": "stream",
          "name": "stdout",
          "text": [
            "Processed DataFrame:\n",
            "   Index                   Title             Artist            Top Genre  \\\n",
            "0      1                 Sunrise        Norah Jones      adult standards   \n",
            "1      2             Black Night        Deep Purple           album rock   \n",
            "2      3          Clint Eastwood           Gorillaz  alternative hip hop   \n",
            "3      4           The Pretender       Foo Fighters    alternative metal   \n",
            "4      5  Waitin' On A Sunny Day  Bruce Springsteen         classic rock   \n",
            "\n",
            "   Year  Beats Per Minute (BPM)    Energy  Danceability  Loudness (dB)  \\\n",
            "0  2004                0.710059  0.278351      0.500000           0.52   \n",
            "1  2000                0.579882  0.783505      0.465116           0.64   \n",
            "2  2001                0.775148  0.680412      0.651163           0.72   \n",
            "3  2007                0.804734  0.958763      0.383721           0.92   \n",
            "4  2002                0.408284  0.814433      0.558140           0.88   \n",
            "\n",
            "   Liveness   Valence Length (Duration)  Acousticness  Speechiness  \\\n",
            "0  0.092784  0.677083               201      0.949495     0.018868   \n",
            "1  0.154639  0.812500               207      0.171717     0.094340   \n",
            "2  0.051546  0.510417               341      0.020202     0.283019   \n",
            "3  0.010309  0.354167               269      0.000000     0.037736   \n",
            "4  0.082474  0.875000               256      0.010101     0.018868   \n",
            "\n",
            "   Popularity  Artist_encoded  Top Genre_encoded  Year_encoded  \n",
            "0    0.674157             443                  2            47  \n",
            "1    0.314607             152                  5            43  \n",
            "2    0.651685             250                  8            44  \n",
            "3    0.730337             220                  9            50  \n",
            "4    0.539326              86                 61            45  \n"
          ]
        }
      ]
    },
    {
      "cell_type": "markdown",
      "source": [
        "Recommender Function"
      ],
      "metadata": {
        "id": "Z2YgO8OYop_d"
      }
    },
    {
      "cell_type": "code",
      "source": [
        "from sklearn.metrics.pairwise import cosine_similarity, euclidean_distances\n",
        "import numpy as np\n",
        "\n",
        "# Additional feature integration (if available)\n",
        "# For example, lyrics or release date\n",
        "# Assuming additional features have been added to the dataframe\n",
        "\n",
        "# Create a feature matrix for content-based filtering\n",
        "content_features = ['Beats Per Minute (BPM)', 'Energy', 'Danceability', 'Loudness (dB)',\n",
        "                    'Liveness', 'Valence', 'Acousticness', 'Speechiness', 'Popularity',\n",
        "                    'Artist_encoded', 'Top Genre_encoded', 'Year_encoded']\n",
        "content_feature_matrix = df[content_features]\n",
        "\n",
        "# Compute similarity matrix using different measures\n",
        "content_similarity_matrix_cosine = cosine_similarity(content_feature_matrix)\n",
        "content_similarity_matrix_euclidean = 1 / (1 + euclidean_distances(content_feature_matrix))  # Inverted to make it a similarity measure\n",
        "\n",
        "# Combine similarity measures (weighted average or other methods)\n",
        "combined_similarity_matrix = (content_similarity_matrix_cosine + content_similarity_matrix_euclidean) / 2\n",
        "\n",
        "# Recommend similar songs\n",
        "def recommend_songs(song_title, similarity_matrix, df, n_recommendations=5, similarity_threshold=0.5):\n",
        "    try:\n",
        "        song_index = df[df['Title'] == song_title].index[0]  # Ensure 'Title' is the correct column name\n",
        "        similarity_scores = list(enumerate(similarity_matrix[song_index]))\n",
        "        similarity_scores = sorted(similarity_scores, key=lambda x: x[1], reverse=True)\n",
        "        recommended_indices = [i[0] for i in similarity_scores[1:] if i[1] >= similarity_threshold][:n_recommendations]\n",
        "        return df['Title'].iloc[recommended_indices]\n",
        "    except IndexError:\n",
        "        return \"Song title not found in the dataset.\"\n",
        "\n",
        "# Example recommendation using a valid song title\n",
        "valid_song_title = \"Empire State Of Mind\"  # Replace with an actual song title from the dataset\n",
        "recommendations = recommend_songs(valid_song_title, combined_similarity_matrix, df)\n",
        "print(\"Recommendations for '{}':\".format(valid_song_title))\n",
        "print(recommendations)\n"
      ],
      "metadata": {
        "colab": {
          "base_uri": "https://localhost:8080/"
        },
        "id": "GMO3XSZC2Xr5",
        "outputId": "814ac8d9-7a23-45f8-bdd7-bb76a4e172b9"
      },
      "execution_count": 4,
      "outputs": [
        {
          "output_type": "stream",
          "name": "stdout",
          "text": [
            "Recommendations for 'Empire State Of Mind':\n",
            "465           Ni**as In Paris\n",
            "106             Numb / Encore\n",
            "122    Voltooid Verleden Tijd\n",
            "244             So Incredible\n",
            "194           Tumble and Fall\n",
            "Name: Title, dtype: object\n"
          ]
        }
      ]
    },
    {
      "cell_type": "markdown",
      "source": [
        "Evaluation of Model"
      ],
      "metadata": {
        "id": "WxjGMeF9ouA4"
      }
    },
    {
      "cell_type": "code",
      "source": [
        "from sklearn.metrics import precision_score, recall_score, mean_absolute_error\n",
        "\n",
        "# Simulate true and predicted recommendations\n",
        "# In a real scenario, these should come from a ground truth dataset\n",
        "\n",
        "# Example true recommendations (you should replace this with actual data)\n",
        "true_recommendations = {\n",
        "    \"Empire State Of Mind\": [\"Ni**as In Paris\", \"Numb / Encore\", \"Love You Like I Love Myself\", \"Still Believe\", \"Annabel\"],\n",
        "    # Add more entries for other songs\n",
        "}\n",
        "\n",
        "# Generate predicted recommendations using the model\n",
        "def get_predictions(true_recommendations, model, df):\n",
        "    predictions = {}\n",
        "    for song in true_recommendations:\n",
        "        predicted = model(song, combined_similarity_matrix, df, n_recommendations=5)\n",
        "        predictions[song] = list(predicted)\n",
        "    return predictions\n",
        "\n",
        "predicted_recommendations = get_predictions(true_recommendations, recommend_songs, df)\n",
        "\n",
        "# Flatten lists for evaluation\n",
        "true_labels = []\n",
        "predicted_labels = []\n",
        "\n",
        "for song in true_recommendations:\n",
        "    true_labels.extend([1 if rec in true_recommendations[song] else 0 for rec in df['Title']])\n",
        "    predicted_labels.extend([1 if rec in predicted_recommendations[song] else 0 for rec in df['Title']])\n",
        "\n",
        "# Compute Precision, Recall, and MAE\n",
        "precision = precision_score(true_labels, predicted_labels, average='micro')\n",
        "recall = recall_score(true_labels, predicted_labels, average='micro')\n",
        "mae = mean_absolute_error(true_labels, predicted_labels)\n",
        "\n",
        "print(f'Precision: {precision}, Recall: {recall}, MAE: {mae}')\n"
      ],
      "metadata": {
        "colab": {
          "base_uri": "https://localhost:8080/"
        },
        "id": "SSmLnV623xWI",
        "outputId": "78b274e5-9785-4266-c4fc-fa5a4bae7772"
      },
      "execution_count": 5,
      "outputs": [
        {
          "output_type": "stream",
          "name": "stdout",
          "text": [
            "Precision: 0.9969909729187563, Recall: 0.9969909729187563, MAE: 0.003009027081243731\n"
          ]
        }
      ]
    },
    {
      "cell_type": "markdown",
      "source": [
        "Save Files"
      ],
      "metadata": {
        "id": "HZpHcCFsox1A"
      }
    },
    {
      "cell_type": "code",
      "source": [
        "# Save the similarity matrices and DataFrame\n",
        "np.save('/content/combined_similarity_matrix.npy', combined_similarity_matrix)\n",
        "df.to_csv('/content/processed_dataset.csv', index=False)"
      ],
      "metadata": {
        "id": "S7gtnY1Z7iTF"
      },
      "execution_count": 7,
      "outputs": []
    }
  ]
}